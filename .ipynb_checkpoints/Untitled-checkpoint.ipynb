{
 "cells": [
  {
   "cell_type": "markdown",
   "id": "51e78fe5",
   "metadata": {},
   "source": [
    "Nuradil Mataraimov COM20(A)"
   ]
  },
  {
   "cell_type": "markdown",
   "id": "abd5cf00",
   "metadata": {},
   "source": [
    "The data: In this assignment, we used a synthetic dataset with 11 variables and over 400 records. The dataset provided was modified to better fit the problem at hand."
   ]
  },
  {
   "cell_type": "markdown",
   "id": "dc44bb02",
   "metadata": {},
   "source": [
    "The attributes are as follows:\n",
    "Sales: Unit sales (in thousands) at each location\n",
    "Competitor Price: Price charged by competitor at each location\n",
    "Income: Community income level (in thousands of dollars)\n",
    "Advertising: Local advertising budget for the company at each location (in thousands of dollars)\n",
    "Population: Population size in the region (in thousands)\n",
    "Price: Price the company charges for car seats at each site\n",
    "Shelf Location: A factor with levels Bad, Good, and Medium indicating the quality of the shelving location for the car seats at each site\n",
    "Age: Average age of the local population\n",
    "Education: Education level at each location\n",
    "Urban: A factor with levels No and Yes to indicate whether the store is in an urban or rural location\n",
    "US: A factor with levels No and Yes to indicate whether the store is in the US or not\n",
    "Data preprocessing:\n",
    "We started by loading the data using pandas and then proceeded to preprocess the data. First, we converted the categorical variables (Shelf Location, Urban, and US) using one-hot encoding:"
   ]
  },
  {
   "cell_type": "code",
   "execution_count": 1,
   "id": "65999294",
   "metadata": {},
   "outputs": [
    {
     "ename": "NameError",
     "evalue": "name 'pd' is not defined",
     "output_type": "error",
     "traceback": [
      "\u001B[0;31m---------------------------------------------------------------------------\u001B[0m",
      "\u001B[0;31mNameError\u001B[0m                                 Traceback (most recent call last)",
      "Cell \u001B[0;32mIn[1], line 1\u001B[0m\n\u001B[0;32m----> 1\u001B[0m data \u001B[38;5;241m=\u001B[39m \u001B[43mpd\u001B[49m\u001B[38;5;241m.\u001B[39mget_dummies(data, columns\u001B[38;5;241m=\u001B[39m[\u001B[38;5;124m'\u001B[39m\u001B[38;5;124mShelf_Location\u001B[39m\u001B[38;5;124m'\u001B[39m, \u001B[38;5;124m'\u001B[39m\u001B[38;5;124mUrban\u001B[39m\u001B[38;5;124m'\u001B[39m, \u001B[38;5;124m'\u001B[39m\u001B[38;5;124mUS\u001B[39m\u001B[38;5;124m'\u001B[39m])\n",
      "\u001B[0;31mNameError\u001B[0m: name 'pd' is not defined"
     ]
    }
   ],
   "source": [
    "data = pd.get_dummies(data, columns=['Shelf_Location', 'Urban', 'US'])"
   ]
  },
  {
   "cell_type": "markdown",
   "id": "1e372705",
   "metadata": {},
   "source": [
    "Next, we split the data into input features (X) and target variable (y) and then into training and testing sets:"
   ]
  },
  {
   "cell_type": "code",
   "execution_count": null,
   "id": "0979f3b3",
   "metadata": {},
   "outputs": [],
   "source": [
    "X = data.drop('Sales', axis=1) y = data['Sales'] X_train, X_test, y_train, y_test = train_test_split(X, y, test_size=0.2, random_state=42)"
   ]
  },
  {
   "cell_type": "markdown",
   "id": "92359650",
   "metadata": {},
   "source": [
    "Model building and evaluation:\n",
    "We built two models to predict sales based on the given attributes: a Random Forest model and an XGBoost model. We trained each model and evaluated their performance using the root mean squared error (RMSE) metric.\n",
    "Random Forest model:\n"
   ]
  },
  {
   "cell_type": "code",
   "execution_count": null,
   "id": "9aa07f75",
   "metadata": {},
   "outputs": [],
   "source": [
    "rf = RandomForestRegressor(n_estimators=100, random_state=42) rf.fit(X_train, y_train) y_pred = rf.predict(X_test) rmse = np.sqrt(mean_squared_error(y_test, y_pred))"
   ]
  },
  {
   "cell_type": "markdown",
   "id": "7511074f",
   "metadata": {},
   "source": [
    "XGBoost model:"
   ]
  },
  {
   "cell_type": "code",
   "execution_count": null,
   "id": "6e24ede7",
   "metadata": {},
   "outputs": [],
   "source": [
    "xgb = XGBRegressor(n_estimators=100, learning_rate=0.1, random_state=42) xgb.fit(X_train, y_train) y_pred = xgb.predict(X_test) rmse = np.sqrt(mean_squared_error(y_test, y_pred))\n"
   ]
  },
  {
   "cell_type": "markdown",
   "id": "2faca9c1",
   "metadata": {},
   "source": [
    "XGBoost model:\n",
    "xgb = XGBRegressor(n_estimators=100, learning_rate=0.1, random_state=42) xgb.fit(X_train, y_train) y_pred = xgb.predict(X_test) rmse = np.sqrt(mean_squared_error(y_test, y_pred))\n",
    "Results:\n",
    "Random Forest RMSE: 28.842365575659702\n",
    "XGBoost RMSE: 31.151933391751058\n",
    "Feature importance analysis:\n",
    "We analyzed the importance of each feature in the Random Forest model to understand which factors have the most significant impact on sales. The top 6 features were:\n",
    "Competitor_Price\n",
    "Population\n",
    "Income\n",
    "Price\n",
    "Advertising\n",
    "Age\n",
    "Model building and evaluation with selected features:\n",
    "We built new models using only the top 6 features to see if the performance could be improved.\n",
    "Random Forest model (selected features):\n"
   ]
  },
  {
   "cell_type": "code",
   "execution_count": null,
   "id": "ccdaf179",
   "metadata": {},
   "outputs": [],
   "source": [
    "X_selected = X[['Competitor_Price', 'Population', 'Income', 'Price', 'Advertising', 'Age']] X_train_selected, X_test_selected, y_train, y_test = train_test_split(X_selected, y, test_size=0.2, random_state=42) rf.fit(X_train_selected, y_train) y_pred = rf.predict(X_test_selected) rmse = np.sqrt(mean_squared_error(y_test, y_pred))"
   ]
  },
  {
   "cell_type": "markdown",
   "id": "fcd0c836",
   "metadata": {},
   "source": [
    "XGBoost model (selected features):\n"
   ]
  },
  {
   "cell_type": "code",
   "execution_count": null,
   "id": "89209986",
   "metadata": {},
   "outputs": [],
   "source": [
    "xgb.fit(X_train_selected, y_train) y_pred = xgb.predict(X_test_selected) rmse = np.sqrt(mean_squared_error(y_test, y_pred)"
   ]
  },
  {
   "cell_type": "markdown",
   "id": "65c26ba6",
   "metadata": {},
   "source": [
    "Results with selected features:\n",
    "Random Forest RMSE (selected features): 29.183497682765854\n",
    "XGBoost RMSE (selected features): 31.965071791282952\n",
    "Conclusion:\n",
    "Based on the results, the Random Forest model using all features performed the best with an RMSE of 28.842365575659702. We also observed that the top 6 features (Competitor_Price, Population, Income, Price, Advertising, and Age) had the most significant impact on sales.\n",
    "In the absence of visual graphs and charts, we can still discuss the findings and their implications for the company. The results suggest that the company should pay close attention to competitor prices, the population in the area, income levels, and their own product pricing. Additionally, the impact of advertising and the age of the local population should not be underestimated.\n",
    "By understanding the importance of these factors, the company can make more informed decisions and develop strategies that will help them increase sales in different locations.\n"
   ]
  }
 ],
 "metadata": {
  "kernelspec": {
   "display_name": "Python 3 (ipykernel)",
   "language": "python",
   "name": "python3"
  },
  "language_info": {
   "codemirror_mode": {
    "name": "ipython",
    "version": 3
   },
   "file_extension": ".py",
   "mimetype": "text/x-python",
   "name": "python",
   "nbconvert_exporter": "python",
   "pygments_lexer": "ipython3",
   "version": "3.11.0"
  }
 },
 "nbformat": 4,
 "nbformat_minor": 5
}
